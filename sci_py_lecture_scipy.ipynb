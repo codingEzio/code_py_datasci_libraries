{
 "cells": [
  {
   "cell_type": "code",
   "execution_count": 1,
   "metadata": {},
   "outputs": [],
   "source": [
    "%matplotlib inline\n",
    "import matplotlib.pyplot as plt\n",
    "from IPython.display import Image"
   ]
  },
  {
   "cell_type": "markdown",
   "metadata": {},
   "source": [
    "### Short intro\n",
    "- The *SciPy* **framework** builds on top of the *low-level NumPy* for multidimensional arrays,\n",
    "- and provides a large number of *higher-level* **scientific algorithms**.\n",
    "\n",
    "### Some of the topics that *SciPy* covers are:\n",
    "- Special functions (```scipy.special```)\n",
    "- Integration (```scipy.integrate```)\n",
    "- Optimization (```scipy.optimize```)\n",
    "- Interpolation (```scipy.interpolate```)\n",
    "- Fourier Transforms (```scipy.fftpack```)\n",
    "- Signal Processing (```scipy.signal```)\n",
    "- Linear Algebra (```scipy.linalg```)\n",
    "- Sparse Eigenvalue Problems (```scipy.sparse```)\n",
    "- Statistics (```scipy.stats```)\n",
    "- Multi-dimensional image processing (```scipy.ndimage```)\n",
    "- File IO (```scipy.io```)"
   ]
  },
  {
   "cell_type": "code",
   "execution_count": 3,
   "metadata": {},
   "outputs": [],
   "source": [
    "# Different kinds of import \n",
    "#   fetch all        --  from scipy import *     -- for REAL??\n",
    "#   part of          --  from scipy.linag as la  --  hmm, reasonable \n",
    "#   part of part of  --  from scipy.special import jn, yn "
   ]
  },
  {
   "cell_type": "code",
   "execution_count": 14,
   "metadata": {},
   "outputs": [],
   "source": [
    "from scipy import *  # use this can reduce a lot of work (for me)"
   ]
  },
  {
   "cell_type": "markdown",
   "metadata": {},
   "source": [
    "### Special Functions \n",
    "- *I have no idea what the* ```special functions``` *mean*.\n",
    "- Here's a wiki [link](https://zh.wikipedia.org/wiki/%E8%B4%9D%E5%A1%9E%E5%B0%94%E5%87%BD%E6%95%B0)"
   ]
  },
  {
   "cell_type": "code",
   "execution_count": 10,
   "metadata": {},
   "outputs": [],
   "source": [
    "from scipy.special import jn, yn, jn_zeros, yn_zeros"
   ]
  },
  {
   "cell_type": "code",
   "execution_count": 12,
   "metadata": {},
   "outputs": [
    {
     "name": "stdout",
     "output_type": "stream",
     "text": [
      "J_0(0.000000) = 1.000000\n",
      "J_0(1.000000) = 0.765198\n"
     ]
    }
   ],
   "source": [
    "n = 0\n",
    "x = 0.0 \n",
    "\n",
    "print(\n",
    "    \"J_{:d}({:f}) = {:f}\".format(n, x, jn(n, x))\n",
    ")\n",
    "\n",
    "x = 1.0 \n",
    "\n",
    "print(\n",
    "    \"J_{:d}({:f}) = {:f}\".format(n, x, jn(n, x))\n",
    ")"
   ]
  },
  {
   "cell_type": "code",
   "execution_count": 17,
   "metadata": {},
   "outputs": [
    {
     "data": {
      "text/plain": [
       "[<matplotlib.lines.Line2D at 0x10f6069e8>]"
      ]
     },
     "execution_count": 17,
     "metadata": {},
     "output_type": "execute_result"
    },
    {
     "data": {
      "text/plain": [
       "[<matplotlib.lines.Line2D at 0x10f7392e8>]"
      ]
     },
     "execution_count": 17,
     "metadata": {},
     "output_type": "execute_result"
    },
    {
     "data": {
      "text/plain": [
       "[<matplotlib.lines.Line2D at 0x10f739978>]"
      ]
     },
     "execution_count": 17,
     "metadata": {},
     "output_type": "execute_result"
    },
    {
     "data": {
      "text/plain": [
       "[<matplotlib.lines.Line2D at 0x10f739a20>]"
      ]
     },
     "execution_count": 17,
     "metadata": {},
     "output_type": "execute_result"
    },
    {
     "data": {
      "text/plain": [
       "<matplotlib.legend.Legend at 0x10f7309b0>"
      ]
     },
     "execution_count": 17,
     "metadata": {},
     "output_type": "execute_result"
    },
    {
     "data": {
      "image/png": "[encoded data removed]",
      "text/plain": [
       "<matplotlib.figure.Figure at 0x10f6930f0>"
      ]
     },
     "metadata": {},
     "output_type": "display_data"
    }
   ],
   "source": [
    "x = linspace(0, 10, 100)\n",
    "\n",
    "fig, ax = plt.subplots()\n",
    "\n",
    "for n in range(4):\n",
    "    ax.plot(x, jn(n, x), label=f\"$J_{n}(x)$\")\n",
    "    \n",
    "ax.legend()"
   ]
  },
  {
   "cell_type": "code",
   "execution_count": 19,
   "metadata": {},
   "outputs": [
    {
     "data": {
      "text/plain": [
       "array([ 2.40482556,  5.52007811,  8.65372791, 11.79153444])"
      ]
     },
     "execution_count": 19,
     "metadata": {},
     "output_type": "execute_result"
    }
   ],
   "source": [
    "n = 0\n",
    "m = 4 \n",
    "\n",
    "jn_zeros(n, m)"
   ]
  },
  {
   "cell_type": "markdown",
   "metadata": {},
   "source": [
    "### Integration\n",
    "> It was called (numerical) ***quadrature*** as well."
   ]
  },
  {
   "cell_type": "code",
   "execution_count": 23,
   "metadata": {},
   "outputs": [],
   "source": [
    "from scipy.integrate import quad, dblquad, tplquad"
   ]
  },
  {
   "cell_type": "markdown",
   "metadata": {},
   "source": [
    "- 0x01 - basic usage"
   ]
  },
  {
   "cell_type": "code",
   "execution_count": 32,
   "metadata": {},
   "outputs": [
    {
     "data": {
      "text/plain": [
       "0.5"
      ]
     },
     "execution_count": 32,
     "metadata": {},
     "output_type": "execute_result"
    },
    {
     "data": {
      "text/plain": [
       "5.551115123125783e-15"
      ]
     },
     "execution_count": 32,
     "metadata": {},
     "output_type": "execute_result"
    }
   ],
   "source": [
    "def f(x):\n",
    "    return x \n",
    "\n",
    "x_lower = 0 \n",
    "x_upper = 1 \n",
    "\n",
    "\n",
    "val, abs_err = quad(f, x_lower, x_upper)\n",
    "\n",
    "val\n",
    "abs_err"
   ]
  },
  {
   "cell_type": "markdown",
   "metadata": {},
   "source": [
    "- 0x02 - wtf usage"
   ]
  },
  {
   "cell_type": "code",
   "execution_count": 34,
   "metadata": {},
   "outputs": [
    {
     "data": {
      "text/plain": [
       "0.004995343578232489"
      ]
     },
     "execution_count": 34,
     "metadata": {},
     "output_type": "execute_result"
    },
    {
     "data": {
      "text/plain": [
       "5.545945456467126e-17"
      ]
     },
     "execution_count": 34,
     "metadata": {},
     "output_type": "execute_result"
    }
   ],
   "source": [
    "def integrand(x, n):\n",
    "    \"\"\"\n",
    "    Bessel function of first kind and order n.\n",
    "    \"\"\"\n",
    "    return jn(n, x)  # :(\n",
    "\n",
    "x_lower = 0\n",
    "x_upper = 1 \n",
    "\n",
    "\n",
    "val, abs_err = quad(integrand, x_lower, x_upper, args=(3,))\n",
    "\n",
    "val\n",
    "abs_err"
   ]
  },
  {
   "cell_type": "markdown",
   "metadata": {},
   "source": [
    "- 0x03 - simple func"
   ]
  },
  {
   "cell_type": "code",
   "execution_count": 38,
   "metadata": {},
   "outputs": [
    {
     "data": {
      "text/plain": [
       "1.7724538509055159"
      ]
     },
     "execution_count": 38,
     "metadata": {},
     "output_type": "execute_result"
    },
    {
     "data": {
      "text/plain": [
       "1.4202636780944923e-08"
      ]
     },
     "execution_count": 38,
     "metadata": {},
     "output_type": "execute_result"
    },
    {
     "data": {
      "text/plain": [
       "1.7724538509055159"
      ]
     },
     "execution_count": 38,
     "metadata": {},
     "output_type": "execute_result"
    }
   ],
   "source": [
    "val, abs_err = quad(lambda x: exp(-x ** 2), -Inf, Inf)  # use 'Inf' as integral limits (is fine)\n",
    "\n",
    "val\n",
    "abs_err \n",
    "\n",
    "# what's this for??\n",
    "analytical = sqrt(pi)\n",
    "analytical"
   ]
  },
  {
   "cell_type": "markdown",
   "metadata": {},
   "source": [
    "- 0x04 - higher-dimen integration "
   ]
  },
  {
   "cell_type": "code",
   "execution_count": 39,
   "metadata": {},
   "outputs": [
    {
     "data": {
      "text/plain": [
       "0.7853981633974476"
      ]
     },
     "execution_count": 39,
     "metadata": {},
     "output_type": "execute_result"
    },
    {
     "data": {
      "text/plain": [
       "1.3753098510218528e-08"
      ]
     },
     "execution_count": 39,
     "metadata": {},
     "output_type": "execute_result"
    }
   ],
   "source": [
    "def integrand(x, y):\n",
    "    return exp(-x**2 - y**2)\n",
    "\n",
    "x_lower, x_upper = (0, 10)\n",
    "y_lower, y_upper = (0, 10)\n",
    "\n",
    "val, abs_err = dblquad(\n",
    "    integrand, \n",
    "    x_lower,\n",
    "    x_upper,\n",
    "    lambda x: y_lower, \n",
    "    lambda x: y_upper,\n",
    ")\n",
    "\n",
    "\n",
    "val\n",
    "abs_err"
   ]
  },
  {
   "cell_type": "markdown",
   "metadata": {},
   "source": [
    "### Ordinary differential equations"
   ]
  }
 ],
 "metadata": {
  "kernelspec": {
   "display_name": "Python 3",
   "language": "python",
   "name": "python3"
  },
  "language_info": {
   "codemirror_mode": {
    "name": "ipython",
    "version": 3
   },
   "file_extension": ".py",
   "mimetype": "text/x-python",
   "name": "python",
   "nbconvert_exporter": "python",
   "pygments_lexer": "ipython3",
   "version": "3.6.5"
  }
 },
 "nbformat": 4,
 "nbformat_minor": 2
}
